{
 "cells": [
  {
   "cell_type": "markdown",
   "metadata": {},
   "source": [
    "install abagen"
   ]
  },
  {
   "cell_type": "code",
   "execution_count": 1,
   "metadata": {},
   "outputs": [
    {
     "name": "stdout",
     "output_type": "stream",
     "text": [
      "Collecting git+https://github.com/rmarkello/abagen.git\n",
      "  Cloning https://github.com/rmarkello/abagen.git to c:\\users\\21445\\appdata\\local\\temp\\pip-req-build-7_a6j7zp\n",
      "  Resolved https://github.com/rmarkello/abagen.git to commit dc4a007e4e902e51f97251390c8d1bbf7e58c6d3\n",
      "  Preparing metadata (setup.py): started\n",
      "  Preparing metadata (setup.py): finished with status 'done'\n",
      "Requirement already satisfied: nibabel in d:\\applications\\anaconda3\\envs\\nilearn\\lib\\site-packages (from abagen==0.1.4+15.gdc4a007) (5.1.0)\n",
      "Requirement already satisfied: numpy>=1.14 in d:\\applications\\anaconda3\\envs\\nilearn\\lib\\site-packages (from abagen==0.1.4+15.gdc4a007) (1.24.2)\n",
      "Requirement already satisfied: pandas>=1.5.0 in d:\\applications\\anaconda3\\envs\\nilearn\\lib\\site-packages (from abagen==0.1.4+15.gdc4a007) (2.0.0)\n",
      "Requirement already satisfied: scipy in d:\\applications\\anaconda3\\envs\\nilearn\\lib\\site-packages (from abagen==0.1.4+15.gdc4a007) (1.10.1)\n",
      "Requirement already satisfied: pytz>=2020.1 in d:\\applications\\anaconda3\\envs\\nilearn\\lib\\site-packages (from pandas>=1.5.0->abagen==0.1.4+15.gdc4a007) (2023.3)\n",
      "Requirement already satisfied: tzdata>=2022.1 in d:\\applications\\anaconda3\\envs\\nilearn\\lib\\site-packages (from pandas>=1.5.0->abagen==0.1.4+15.gdc4a007) (2023.3)\n",
      "Requirement already satisfied: python-dateutil>=2.8.2 in d:\\applications\\anaconda3\\envs\\nilearn\\lib\\site-packages (from pandas>=1.5.0->abagen==0.1.4+15.gdc4a007) (2.8.2)\n",
      "Requirement already satisfied: packaging>=17 in d:\\applications\\anaconda3\\envs\\nilearn\\lib\\site-packages (from nibabel->abagen==0.1.4+15.gdc4a007) (23.1)\n",
      "Requirement already satisfied: six>=1.5 in d:\\applications\\anaconda3\\envs\\nilearn\\lib\\site-packages (from python-dateutil>=2.8.2->pandas>=1.5.0->abagen==0.1.4+15.gdc4a007) (1.16.0)\n",
      "Building wheels for collected packages: abagen\n",
      "  Building wheel for abagen (setup.py): started\n",
      "  Building wheel for abagen (setup.py): finished with status 'done'\n",
      "  Created wheel for abagen: filename=abagen-0.1.4+15.gdc4a007-py3-none-any.whl size=3671489 sha256=f595afb06a4f80e293c6008095dc9a5a12995df62c42484ead555d889a46a024\n",
      "  Stored in directory: C:\\Users\\21445\\AppData\\Local\\Temp\\pip-ephem-wheel-cache-xr8izgi2\\wheels\\d0\\6e\\dd\\272a28f204083c796b1e9f4ab37e529a9c2493e42ad8c650e2\n",
      "Successfully built abagen\n",
      "Installing collected packages: abagen\n",
      "  Attempting uninstall: abagen\n",
      "    Found existing installation: abagen 0.1.3\n",
      "    Uninstalling abagen-0.1.3:\n",
      "      Successfully uninstalled abagen-0.1.3\n",
      "Successfully installed abagen-0.1.4+15.gdc4a007\n",
      "Note: you may need to restart the kernel to use updated packages.\n"
     ]
    },
    {
     "name": "stderr",
     "output_type": "stream",
     "text": [
      "  Running command git clone --filter=blob:none --quiet https://github.com/rmarkello/abagen.git 'C:\\Users\\21445\\AppData\\Local\\Temp\\pip-req-build-7_a6j7zp'\n"
     ]
    }
   ],
   "source": [
    "pip install git+https://github.com/rmarkello/abagen.git"
   ]
  },
  {
   "cell_type": "markdown",
   "metadata": {},
   "source": [
    "The data supplied by the Allen Human Brain Atlas is quite large—on the order of ~4GB for all six donors. Because loading these datasets into memory can be quite time-consuming, abagen has integrated support for parquet and can do some on-the-fly conversions to speed things up. However, using parquet is completely optional, and therefore support for it is not installed when using the “vanilla” installation procedures.\n",
    "\n",
    "If you would like to enable parquet support, you will need to install some additional dependencies. This can be done using pip:"
   ]
  },
  {
   "cell_type": "code",
   "execution_count": 3,
   "metadata": {},
   "outputs": [],
   "source": [
    "import abagen"
   ]
  },
  {
   "cell_type": "markdown",
   "metadata": {},
   "source": [
    "This command will download data from the specified donors into a folder called microarray in the $HOME/abagen-data directory. If you have already downloaded the data you can provide the data_dir argument to specify where the files have been stored:\n",
    "\n",
    "Change data_dir to current dir and copy abagen_data folder to current dir to solve error in abagen.get_expression_data:\n",
    "TypeError: DataFrame.set_axis() got an unexpected keyword argument 'inplace'"
   ]
  },
  {
   "cell_type": "code",
   "execution_count": 4,
   "metadata": {},
   "outputs": [],
   "source": [
    "files = abagen.fetch_microarray(donors='all', verbose=0, data_dir='D:/Projects/SES_T1/results/annotation/abagen-data/')"
   ]
  },
  {
   "cell_type": "code",
   "execution_count": 5,
   "metadata": {},
   "outputs": [
    {
     "name": "stdout",
     "output_type": "stream",
     "text": [
      "dict_keys(['9861', '10021', '12876', '14380', '15496', '15697'])\n"
     ]
    }
   ],
   "source": [
    "print(files.keys())"
   ]
  },
  {
   "cell_type": "code",
   "execution_count": 6,
   "metadata": {},
   "outputs": [],
   "source": [
    "atlas = abagen.fetch_desikan_killiany()"
   ]
  },
  {
   "cell_type": "code",
   "execution_count": 8,
   "metadata": {},
   "outputs": [
    {
     "name": "stdout",
     "output_type": "stream",
     "text": [
      "d:\\Applications\\anaconda3\\envs\\nilearn\\lib\\site-packages\\abagen\\data\\atlas-desikankilliany.nii.gz\n"
     ]
    }
   ],
   "source": [
    "print(atlas['image'])"
   ]
  },
  {
   "cell_type": "code",
   "execution_count": 12,
   "metadata": {},
   "outputs": [
    {
     "name": "stdout",
     "output_type": "stream",
     "text": [
      "d:\\Applications\\anaconda3\\envs\\nilearn\\lib\\site-packages\\abagen\\data\\atlas-desikankilliany.csv\n"
     ]
    }
   ],
   "source": [
    "print(atlas['info'])"
   ]
  },
  {
   "cell_type": "code",
   "execution_count": 10,
   "metadata": {},
   "outputs": [
    {
     "name": "stdout",
     "output_type": "stream",
     "text": [
      "gene_symbol      A1BG  A1BG-AS1       A2M     A2ML1   A3GALT2    A4GALT   \n",
      "label                                                                     \n",
      "1            0.480759  0.688550  0.370086  0.392645  0.360818  0.419254  \\\n",
      "2            0.623995  0.532027  0.519627  0.623731  0.404923  0.412919   \n",
      "3            0.525373  0.622902  0.519448  0.393459  0.442179  0.550368   \n",
      "4            0.353714  0.576465  0.474117  0.413741  0.354063  0.441846   \n",
      "5            0.667755  0.543455  0.606849  0.526906  0.423939  0.467107   \n",
      "...               ...       ...       ...       ...       ...       ...   \n",
      "79           0.798694  0.224842  0.826082  0.538833  0.366658  0.598533   \n",
      "80           0.696748  0.468697  0.534857  0.509453  0.365579  0.309886   \n",
      "81           0.363747  0.271664  0.469768  0.630534  0.656241  0.585701   \n",
      "82           0.823845  0.601943  0.334327  0.509475  0.507125  0.200720   \n",
      "83           0.425415  0.227603  0.634910  0.558285  0.594288  0.525956   \n",
      "\n",
      "gene_symbol      AAAS      AACS   AADACL3     AADAT  ...      ZW10    ZWILCH   \n",
      "label                                                ...                       \n",
      "1            0.517483  0.759551  0.369701  0.686505  ...  0.545096  0.545136  \\\n",
      "2            0.456501  0.635867  0.455615  0.683714  ...  0.490226  0.408071   \n",
      "3            0.515183  0.790477  0.352449  0.582405  ...  0.499996  0.619777   \n",
      "4            0.655117  0.754925  0.443763  0.577075  ...  0.574148  0.575461   \n",
      "5            0.349361  0.716827  0.476033  0.614465  ...  0.462089  0.539385   \n",
      "...               ...       ...       ...       ...  ...       ...       ...   \n",
      "79           0.633793  0.188927  0.524395  0.659530  ...  0.634603  0.264888   \n",
      "80           0.368033  0.468293  0.442630  0.724759  ...  0.591741  0.375559   \n",
      "81           0.347811  0.507718  0.719961  0.234131  ...  0.357127  0.355556   \n",
      "82           0.196643  0.478484  0.547833  0.573867  ...  0.217679  0.751592   \n",
      "83           0.508487  0.242287  0.692684  0.267999  ...  0.510536  0.347575   \n",
      "\n",
      "gene_symbol     ZWINT      ZXDA      ZXDB      ZXDC    ZYG11B       ZYX   \n",
      "label                                                                     \n",
      "1            0.563060  0.442549  0.509614  0.371313  0.678011  0.688956  \\\n",
      "2            0.401761  0.424034  0.348653  0.556901  0.632079  0.468893   \n",
      "3            0.479420  0.350032  0.376171  0.357934  0.679664  0.735109   \n",
      "4            0.443060  0.393485  0.425785  0.378634  0.651728  0.845611   \n",
      "5            0.710304  0.358010  0.398148  0.510071  0.713046  0.339948   \n",
      "...               ...       ...       ...       ...       ...       ...   \n",
      "79           0.335298  0.559821  0.445602  0.781164  0.268763  0.417139   \n",
      "80           0.653170  0.620192  0.573446  0.608705  0.572596  0.293782   \n",
      "81           0.631193  0.642921  0.482462  0.571270  0.371391  0.286521   \n",
      "82           0.562553  0.761811  0.619663  0.610153  0.337517  0.199307   \n",
      "83           0.256544  0.606149  0.605248  0.637157  0.327768  0.422648   \n",
      "\n",
      "gene_symbol     ZZEF1      ZZZ3  \n",
      "label                            \n",
      "1            0.544369  0.496820  \n",
      "2            0.369227  0.483143  \n",
      "3            0.359137  0.455061  \n",
      "4            0.562431  0.377707  \n",
      "5            0.399627  0.574180  \n",
      "...               ...       ...  \n",
      "79           0.579344  0.773335  \n",
      "80           0.451518  0.735699  \n",
      "81           0.480644  0.432468  \n",
      "82           0.447676  0.745570  \n",
      "83           0.650358  0.430777  \n",
      "\n",
      "[83 rows x 15633 columns]\n"
     ]
    }
   ],
   "source": [
    "print(expression)"
   ]
  },
  {
   "cell_type": "markdown",
   "metadata": {},
   "source": [
    "define ses mediation effect regions:\n",
    "lh_lateral occipital\n",
    "middle temporal\n",
    "precentral\n",
    "superiortemporal\n",
    "insula\n",
    "caudal anterior cingulate\n",
    "posterior cingulate\n",
    "rostral anterior cingulate\n",
    "rh_postcentral\n",
    "precentral\n",
    "superior frontal\n",
    "caudal middle frontal\n",
    "inferior temporal\n",
    "superior temporal\n",
    "insula\n",
    "right thalamus\n",
    "right ventralDC not in csv\n",
    "right hippocampus\n",
    "right caudate\n",
    "brain stem"
   ]
  },
  {
   "cell_type": "markdown",
   "metadata": {},
   "source": [
    "Step 1: Load and Inspect the Atlas Information\n",
    "Load the atlas information and inspect the structure."
   ]
  },
  {
   "cell_type": "code",
   "execution_count": 13,
   "metadata": {},
   "outputs": [
    {
     "name": "stdout",
     "output_type": "stream",
     "text": [
      "   id                    label hemisphere structure\n",
      "0   1                 bankssts          L    cortex\n",
      "1   2  caudalanteriorcingulate          L    cortex\n",
      "2   3      caudalmiddlefrontal          L    cortex\n",
      "3   4                   cuneus          L    cortex\n",
      "4   5               entorhinal          L    cortex\n"
     ]
    }
   ],
   "source": [
    "import nibabel as nib\n",
    "import pandas as pd\n",
    "\n",
    "dk = nib.load(atlas['image'])\n",
    "atlas_info = pd.read_csv('D:/Applications/anaconda3/envs/nilearn/Lib/site-packages/abagen/data/atlas-desikankilliany.csv')\n",
    "\n",
    "print(atlas_info.head())\n"
   ]
  },
  {
   "cell_type": "markdown",
   "metadata": {},
   "source": [
    "Step 2: Define Behavior-Correlated Regions\n",
    "List the behavior-correlated regions using the label and hemisphere. For example:"
   ]
  },
  {
   "cell_type": "code",
   "execution_count": 14,
   "metadata": {},
   "outputs": [],
   "source": [
    "sesmed = [\n",
    "    ('lateraloccipital', 'L'),\n",
    "    ('middletemporal', 'L'),\n",
    "    ('precentral', 'L'),\n",
    "    ('superiortemporal', 'L'),\n",
    "    ('insula', 'L'),\n",
    "    ('caudalanteriorcingulate', 'L'),\n",
    "    ('posteriorcingulate', 'L'),\n",
    "    ('rostralanteriorcingulate', 'L'),\n",
    "    ('postcentral', 'R'),\n",
    "    ('precentral', 'R'),\n",
    "    ('superiorfrontal', 'R'),\n",
    "    ('caudalmiddlefrontal', 'R'),\n",
    "    ('inferiortemporal', 'R'),\n",
    "    ('superiortemporal', 'R'),\n",
    "    ('insula', 'R'),\n",
    "    ('thalamusproper', 'R'),\n",
    "    ('hippocampus', 'R'),\n",
    "    ('caudate', 'R'),\n",
    "    ('brainstem', 'B')\n",
    "\n",
    "]"
   ]
  },
  {
   "cell_type": "markdown",
   "metadata": {},
   "source": [
    "Step 3: Load the Gene Expression Data\n",
    "Load the gene expression data using the abagen package and ensure it matches the atlas information."
   ]
  },
  {
   "cell_type": "code",
   "execution_count": 15,
   "metadata": {},
   "outputs": [],
   "source": [
    "# Ensure the index matches the atlas info labels and hemispheres\n",
    "atlas_info.set_index(['label', 'hemisphere'], inplace=True)\n",
    "expression.index = pd.MultiIndex.from_tuples(atlas_info.index)"
   ]
  },
  {
   "cell_type": "markdown",
   "metadata": {},
   "source": [
    "Step 4: Extract Gene Expression for Correlated Regions\n",
    "Extract the gene expression data for the specific behavior-correlated regions."
   ]
  },
  {
   "cell_type": "code",
   "execution_count": 17,
   "metadata": {},
   "outputs": [
    {
     "name": "stdout",
     "output_type": "stream",
     "text": [
      "gene_symbol                     A1BG  A1BG-AS1       A2M     A2ML1   A3GALT2   \n",
      "lateraloccipital         L  0.375673  0.568228  0.490108  0.463670  0.430640  \\\n",
      "middletemporal           L  0.596330  0.677565  0.396459  0.459630  0.402897   \n",
      "precentral               L  0.422984  0.606412  0.554419  0.464281  0.438001   \n",
      "superiortemporal         L  0.621483  0.698926  0.416701  0.445005  0.406744   \n",
      "insula                   L  0.662749  0.690935  0.433926  0.555730  0.443082   \n",
      "caudalanteriorcingulate  L  0.623995  0.532027  0.519627  0.623731  0.404923   \n",
      "posteriorcingulate       L  0.480522  0.663844  0.462867  0.540799  0.452143   \n",
      "rostralanteriorcingulate L  0.589971  0.644639  0.464669  0.442821  0.429580   \n",
      "postcentral              R  0.465276  0.643041  0.401791  0.492452  0.418852   \n",
      "precentral               R  0.520534  0.614231  0.479551  0.516994  0.379513   \n",
      "superiorfrontal          R  0.583800  0.678346  0.408661  0.417958  0.326697   \n",
      "caudalmiddlefrontal      R  0.569248  0.608723  0.429530  0.577960  0.516547   \n",
      "inferiortemporal         R  0.588142  0.682772  0.327311  0.503135  0.455981   \n",
      "superiortemporal         R  0.643810  0.666593  0.401648  0.493493  0.344441   \n",
      "insula                   R  0.635001  0.681073  0.470095  0.495235  0.379746   \n",
      "thalamusproper           R  0.393857  0.224652  0.669021  0.573324  0.593694   \n",
      "hippocampus              R  0.363747  0.271664  0.469768  0.630534  0.656241   \n",
      "caudate                  R  0.615627  0.322751  0.698078  0.695606  0.625173   \n",
      "brainstem                B  0.425415  0.227603  0.634910  0.558285  0.594288   \n",
      "\n",
      "gene_symbol                   A4GALT      AAAS      AACS   AADACL3     AADAT   \n",
      "lateraloccipital         L  0.434396  0.623463  0.778153  0.335201  0.671954  \\\n",
      "middletemporal           L  0.389065  0.489537  0.777262  0.377127  0.665216   \n",
      "precentral               L  0.479204  0.575363  0.808622  0.381032  0.675960   \n",
      "superiortemporal         L  0.403045  0.493617  0.782189  0.357417  0.673867   \n",
      "insula                   L  0.423787  0.393605  0.688934  0.495826  0.558670   \n",
      "caudalanteriorcingulate  L  0.412919  0.456501  0.635867  0.455615  0.683714   \n",
      "posteriorcingulate       L  0.421569  0.492161  0.817762  0.385400  0.675413   \n",
      "rostralanteriorcingulate L  0.381746  0.463513  0.834649  0.399434  0.744752   \n",
      "postcentral              R  0.454203  0.588508  0.793153  0.419200  0.670069   \n",
      "precentral               R  0.523805  0.592971  0.810155  0.288727  0.610860   \n",
      "superiorfrontal          R  0.549916  0.503055  0.817843  0.330173  0.648026   \n",
      "caudalmiddlefrontal      R  0.386813  0.501786  0.808395  0.438324  0.583104   \n",
      "inferiortemporal         R  0.473930  0.452231  0.795374  0.445113  0.579034   \n",
      "superiortemporal         R  0.552842  0.473500  0.786540  0.306314  0.605653   \n",
      "insula                   R  0.498095  0.447597  0.736480  0.434237  0.586741   \n",
      "thalamusproper           R  0.446833  0.498114  0.360711  0.614870  0.357810   \n",
      "hippocampus              R  0.585701  0.347811  0.507718  0.719961  0.234131   \n",
      "caudate                  R  0.507247  0.495239  0.273852  0.554158  0.502483   \n",
      "brainstem                B  0.525956  0.508487  0.242287  0.692684  0.267999   \n",
      "\n",
      "gene_symbol                 ...      ZW10    ZWILCH     ZWINT      ZXDA   \n",
      "lateraloccipital         L  ...  0.557033  0.596342  0.498812  0.456572  \\\n",
      "middletemporal           L  ...  0.540003  0.586602  0.553373  0.411920   \n",
      "precentral               L  ...  0.634912  0.552396  0.482536  0.322443   \n",
      "superiortemporal         L  ...  0.521777  0.609449  0.572316  0.388117   \n",
      "insula                   L  ...  0.388893  0.661619  0.581290  0.470110   \n",
      "caudalanteriorcingulate  L  ...  0.490226  0.408071  0.401761  0.424034   \n",
      "posteriorcingulate       L  ...  0.577197  0.455335  0.485591  0.475293   \n",
      "rostralanteriorcingulate L  ...  0.510380  0.511386  0.576034  0.440690   \n",
      "postcentral              R  ...  0.602175  0.566030  0.499266  0.463618   \n",
      "precentral               R  ...  0.602907  0.521067  0.436263  0.359972   \n",
      "superiorfrontal          R  ...  0.501261  0.625632  0.500632  0.455494   \n",
      "caudalmiddlefrontal      R  ...  0.517577  0.611446  0.407849  0.446744   \n",
      "inferiortemporal         R  ...  0.479450  0.600724  0.579822  0.488683   \n",
      "superiortemporal         R  ...  0.533712  0.654774  0.547314  0.459840   \n",
      "insula                   R  ...  0.454337  0.720513  0.548617  0.508245   \n",
      "thalamusproper           R  ...  0.475760  0.239808  0.500134  0.515378   \n",
      "hippocampus              R  ...  0.357127  0.355556  0.631193  0.642921   \n",
      "caudate                  R  ...  0.330747  0.307300  0.373761  0.755535   \n",
      "brainstem                B  ...  0.510536  0.347575  0.256544  0.606149   \n",
      "\n",
      "gene_symbol                     ZXDB      ZXDC    ZYG11B       ZYX     ZZEF1   \n",
      "lateraloccipital         L  0.470594  0.423762  0.673044  0.799323  0.606389  \\\n",
      "middletemporal           L  0.485939  0.415486  0.695150  0.605695  0.441907   \n",
      "precentral               L  0.487350  0.359105  0.692385  0.756733  0.501288   \n",
      "superiortemporal         L  0.473949  0.410943  0.721465  0.615362  0.425985   \n",
      "insula                   L  0.474601  0.545564  0.566307  0.483104  0.432646   \n",
      "caudalanteriorcingulate  L  0.348653  0.556901  0.632079  0.468893  0.369227   \n",
      "posteriorcingulate       L  0.582657  0.435418  0.724352  0.626425  0.442898   \n",
      "rostralanteriorcingulate L  0.479731  0.479628  0.714625  0.518375  0.434183   \n",
      "postcentral              R  0.542515  0.502894  0.747661  0.758519  0.560960   \n",
      "precentral               R  0.529476  0.429784  0.683406  0.754257  0.531007   \n",
      "superiorfrontal          R  0.443761  0.426390  0.685278  0.647032  0.394569   \n",
      "caudalmiddlefrontal      R  0.509456  0.484373  0.732644  0.732500  0.329708   \n",
      "inferiortemporal         R  0.489234  0.450144  0.746547  0.581928  0.411260   \n",
      "superiortemporal         R  0.526566  0.474504  0.726993  0.628433  0.469033   \n",
      "insula                   R  0.449653  0.452022  0.614211  0.513120  0.454720   \n",
      "thalamusproper           R  0.554468  0.557599  0.419464  0.364385  0.477608   \n",
      "hippocampus              R  0.482462  0.571270  0.371391  0.286521  0.480644   \n",
      "caudate                  R  0.671564  0.696211  0.279375  0.223610  0.341072   \n",
      "brainstem                B  0.605248  0.637157  0.327768  0.422648  0.650358   \n",
      "\n",
      "gene_symbol                     ZZZ3  \n",
      "lateraloccipital         L  0.453102  \n",
      "middletemporal           L  0.540872  \n",
      "precentral               L  0.393069  \n",
      "superiortemporal         L  0.490674  \n",
      "insula                   L  0.580357  \n",
      "caudalanteriorcingulate  L  0.483143  \n",
      "posteriorcingulate       L  0.541466  \n",
      "rostralanteriorcingulate L  0.534061  \n",
      "postcentral              R  0.476723  \n",
      "precentral               R  0.402025  \n",
      "superiorfrontal          R  0.539314  \n",
      "caudalmiddlefrontal      R  0.455082  \n",
      "inferiortemporal         R  0.474595  \n",
      "superiortemporal         R  0.510143  \n",
      "insula                   R  0.615333  \n",
      "thalamusproper           R  0.549360  \n",
      "hippocampus              R  0.432468  \n",
      "caudate                  R  0.422073  \n",
      "brainstem                B  0.430777  \n",
      "\n",
      "[19 rows x 15633 columns]\n"
     ]
    }
   ],
   "source": [
    "# Extracting expression data for behavior-correlated regions\n",
    "sesmed_expression = expression.loc[sesmed]\n",
    "print(sesmed_expression)"
   ]
  },
  {
   "cell_type": "markdown",
   "metadata": {},
   "source": [
    "Step 5: Rank Genes by Expression\n",
    "Rank the genes by their expression levels in the behavior-correlated regions."
   ]
  },
  {
   "cell_type": "code",
   "execution_count": 22,
   "metadata": {},
   "outputs": [
    {
     "name": "stdout",
     "output_type": "stream",
     "text": [
      "gene_symbol\n",
      "A1BG        0.535693\n",
      "A1BG-AS1    0.563370\n",
      "A2M         0.480481\n",
      "A2ML1       0.523718\n",
      "A3GALT2     0.457852\n",
      "dtype: float64\n",
      "gene_symbol\n",
      "NRGN         0.829529\n",
      "STX1A        0.804470\n",
      "ITPKA        0.801722\n",
      "FOXG1        0.784552\n",
      "NGEF         0.783793\n",
      "OLFM1        0.778888\n",
      "ENC1         0.778765\n",
      "TMEM155      0.778534\n",
      "EXOC3L2      0.777720\n",
      "EPOP         0.770630\n",
      "CHN1         0.769214\n",
      "CCK          0.767738\n",
      "PDE2A        0.765564\n",
      "CA11         0.761137\n",
      "KCNMA1       0.758442\n",
      "GDA          0.756681\n",
      "RGS4         0.756078\n",
      "LHX2         0.754924\n",
      "CREG2        0.748579\n",
      "KIAA1549L    0.748240\n",
      "NPTX1        0.748210\n",
      "LINC02217    0.745097\n",
      "HSPB3        0.744177\n",
      "MAL2         0.744042\n",
      "EPHB6        0.743361\n",
      "dtype: float64\n"
     ]
    }
   ],
   "source": [
    "# Calculate the mean expression across the behavior-correlated regions\n",
    "mean_expression = sesmed_expression.mean(axis=0)\n",
    "print(mean_expression.head())\n",
    "# Get the top 25 genes\n",
    "top_genes = mean_expression.sort_values(ascending=False).head(25)\n",
    "print(top_genes)\n"
   ]
  },
  {
   "cell_type": "markdown",
   "metadata": {},
   "source": [
    "Step 6: Statistical Validation (Permutation Test)\n",
    "Perform a permutation test to ensure the observed gene expression patterns are not due to random chance."
   ]
  },
  {
   "cell_type": "code",
   "execution_count": 24,
   "metadata": {},
   "outputs": [
    {
     "name": "stdout",
     "output_type": "stream",
     "text": [
      "             gene  mean_expression  p_value\n",
      "14001     TRIM49B         0.623494   0.0402\n",
      "9171         OPN4         0.587175   0.0380\n",
      "1640     C6orf201         0.558457   0.0485\n",
      "8953         NRAP         0.557241   0.0231\n",
      "2667        CNTN6         0.555606   0.0045\n",
      "1706        CABP2         0.552687   0.0240\n",
      "4938        GDF10         0.550793   0.0205\n",
      "6725   KRTAP5-AS1         0.550081   0.0280\n",
      "2182         CDH6         0.549619   0.0135\n",
      "4596         FJX1         0.548380   0.0101\n",
      "10294        PRB1         0.547709   0.0187\n",
      "10225     PPP1R17         0.547543   0.0073\n",
      "15498     ZNF733P         0.547158   0.0362\n",
      "12255     SLC52A1         0.546925   0.0034\n",
      "6691    KRTAP10-6         0.541459   0.0338\n",
      "6713     KRTAP4-1         0.541250   0.0496\n",
      "3703         DYTN         0.540968   0.0266\n",
      "11855       SF3A2         0.540451   0.0473\n",
      "5307        GRIK4         0.539594   0.0181\n",
      "10968       RDH11         0.538775   0.0058\n",
      "9891       PLA2G7         0.536790   0.0434\n",
      "3967         ENO3         0.536231   0.0353\n",
      "15495      ZNF729         0.535918   0.0444\n",
      "12131    SLC25A53         0.535081   0.0126\n",
      "2225       CDKN1C         0.534101   0.0391\n"
     ]
    }
   ],
   "source": [
    "import numpy as np\n",
    "\n",
    "n_permutations = 10000  # Number of permutations\n",
    "permuted_means = np.zeros((n_permutations, expression.shape[1]))\n",
    "\n",
    "# Perform permutations\n",
    "for i in range(n_permutations):\n",
    "    permuted_regions = [tuple(r) for r in np.random.permutation(atlas_info.index)]\n",
    "    permuted_expression = expression.loc[permuted_regions[:len(sesmed_expression)]]\n",
    "    permuted_means[i, :] = permuted_expression.mean(axis=0)\n",
    "\n",
    "# Calculate p-values\n",
    "observed_means = mean_expression.values\n",
    "p_values = np.mean(permuted_means >= observed_means, axis=0)\n",
    "\n",
    "# Create a DataFrame for the results\n",
    "results = pd.DataFrame({\n",
    "    'gene': mean_expression.index,\n",
    "    'mean_expression': observed_means,\n",
    "    'p_value': p_values\n",
    "})\n",
    "\n",
    "# Filter significant genes (e.g., p-value < 0.05)\n",
    "significant_genes = results[results['p_value'] < 0.05].sort_values('mean_expression', ascending=False).head(25)\n",
    "print(significant_genes)"
   ]
  },
  {
   "cell_type": "markdown",
   "metadata": {},
   "source": [
    "Step 7: Reporting Results\n",
    "When reporting your results, it’s essential to include both the expression values and the statistical significance of your findings. You can report the top genes with their mean expression values and corresponding p-values."
   ]
  },
  {
   "cell_type": "markdown",
   "metadata": {},
   "source": [
    "try not to select top 25 genes first, do perm to all genes"
   ]
  },
  {
   "cell_type": "code",
   "execution_count": 25,
   "metadata": {},
   "outputs": [],
   "source": [
    "import numpy as np\n",
    "\n",
    "n_permutations = 10000  # Number of permutations\n",
    "permuted_means = np.zeros((n_permutations, expression.shape[1]))\n",
    "\n",
    "# Perform permutations\n",
    "for i in range(n_permutations):\n",
    "    permuted_regions = [tuple(r) for r in np.random.permutation(atlas_info.index)]\n",
    "    permuted_expression = expression.loc[permuted_regions[:len(sesmed_expression)]]\n",
    "    permuted_means[i, :] = permuted_expression.mean(axis=0)\n",
    "\n",
    "# Calculate p-values\n",
    "observed_means = sesmed_expression.mean(axis=0).values\n",
    "p_values = np.mean(permuted_means >= observed_means, axis=0)\n",
    "\n",
    "# Calculate -log(p) for better visualization\n",
    "log_p_values = -np.log10(p_values)\n",
    "\n",
    "# Create a DataFrame for the results\n",
    "results = pd.DataFrame({\n",
    "    'gene': sesmed_expression.columns,\n",
    "    'mean_expression': observed_means,\n",
    "    'p_value': p_values,\n",
    "    'log_p_value': log_p_values\n",
    "})\n",
    "\n",
    "print(results)"
   ]
  },
  {
   "cell_type": "code",
   "execution_count": 26,
   "metadata": {},
   "outputs": [
    {
     "name": "stdout",
     "output_type": "stream",
     "text": [
      "           gene  mean_expression  p_value  log_p_value\n",
      "0          A1BG         0.535693   0.3881     0.411056\n",
      "1      A1BG-AS1         0.563370   0.6650     0.177178\n",
      "2           A2M         0.480481   0.2184     0.660747\n",
      "3         A2ML1         0.523718   0.0526     1.279014\n",
      "4       A3GALT2         0.457852   0.1020     0.991400\n",
      "...         ...              ...      ...          ...\n",
      "15628      ZXDC         0.489955   0.3361     0.473531\n",
      "15629    ZYG11B         0.618639   0.6420     0.192465\n",
      "15630       ZYX         0.567730   0.6830     0.165579\n",
      "15631     ZZEF1         0.460814   0.7800     0.107905\n",
      "15632      ZZZ3         0.490770   0.7539     0.122686\n",
      "\n",
      "[15633 rows x 4 columns]\n"
     ]
    }
   ],
   "source": [
    "print(results)"
   ]
  },
  {
   "cell_type": "markdown",
   "metadata": {},
   "source": [
    "Visualize the Results:\n",
    "Plot the results to visualize the gene expression significance."
   ]
  },
  {
   "cell_type": "code",
   "execution_count": 28,
   "metadata": {},
   "outputs": [
    {
     "data": {
      "image/png": "[encoded data removed]",
      "text/plain": [
       "<Figure size 1000x600 with 1 Axes>"
      ]
     },
     "metadata": {},
     "output_type": "display_data"
    },
    {
     "name": "stdout",
     "output_type": "stream",
     "text": [
      "          gene  mean_expression  p_value  log_p_value\n",
      "1200    BCAP31         0.523076   0.0019     2.721246\n",
      "12255  SLC52A1         0.546925   0.0039     2.408935\n",
      "12328     SLPI         0.492018   0.0055     2.259637\n",
      "10968    RDH11         0.538775   0.0065     2.187087\n",
      "2667     CNTN6         0.555606   0.0083     2.080922\n",
      "10225  PPP1R17         0.547543   0.0086     2.065502\n",
      "12707     SQLE         0.505204   0.0087     2.060481\n",
      "2701   COL18A1         0.492592   0.0096     2.017729\n"
     ]
    }
   ],
   "source": [
    "import matplotlib.pyplot as plt\n",
    "import seaborn as sns\n",
    "\n",
    "# Plot -log(p) values\n",
    "plt.figure(figsize=(10, 6))\n",
    "sns.histplot(log_p_values, bins=50, kde=True)\n",
    "plt.axvline(x=-np.log10(0.001), color='r', linestyle='--', label='p = 0.001')\n",
    "plt.xlabel('-log10(p-value)')\n",
    "plt.ylabel('Frequency')\n",
    "plt.title('Distribution of -log10(p-values) for Gene Expression in Behavior-Correlated Regions')\n",
    "plt.legend()\n",
    "plt.show()\n",
    "\n",
    "# Highlight significant genes (e.g., p-value < 0.001)\n",
    "significant_genes = results[results['p_value'] < 0.01].sort_values('log_p_value', ascending=False)\n",
    "\n",
    "# Print significant genes\n",
    "print(significant_genes)\n"
   ]
  }
 ],
 "metadata": {
  "kernelspec": {
   "display_name": "nilearn",
   "language": "python",
   "name": "python3"
  },
  "language_info": {
   "codemirror_mode": {
    "name": "ipython",
    "version": 3
   },
   "file_extension": ".py",
   "mimetype": "text/x-python",
   "name": "python",
   "nbconvert_exporter": "python",
   "pygments_lexer": "ipython3",
   "version": "3.9.16"
  }
 },
 "nbformat": 4,
 "nbformat_minor": 2
}
