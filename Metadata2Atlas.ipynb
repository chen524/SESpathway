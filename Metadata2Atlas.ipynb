{
 "cells": [
  {
   "cell_type": "code",
   "execution_count": 1,
   "metadata": {},
   "outputs": [],
   "source": [
    "import nibabel as nib\n",
    "import json\n",
    "\n",
    "# Load the Desikan NIfTI file\n",
    "desikan_img = nib.load('D:/Projects/SES_T1/atlas/neuroparc-master/atlases/label/Human/Desikan_space-MNI152NLin6_res-1x1x1.nii.gz')\n",
    "\n",
    "# Load the JSON metadata file\n",
    "with open('D:/Projects/SES_T1/atlas/neuroparc-master/atlases/label/Human/Metadata-json/Desikan_space-MNI152NLin6_res-1x1x1.json', 'r') as f:\n",
    "    desikan_metadata = json.load(f)\n"
   ]
  },
  {
   "cell_type": "code",
   "execution_count": 3,
   "metadata": {},
   "outputs": [],
   "source": [
    "import numpy as np\n",
    "\n",
    "# Extract data from the original NIfTI file\n",
    "data = desikan_img.get_fdata()\n",
    "\n",
    "# Create a new NIfTI image with the same data and affine\n",
    "new_img = nib.Nifti1Image(data, affine=desikan_img.affine)\n",
    "\n",
    "# Update the header with metadata\n",
    "header = new_img.header\n",
    "header.extensions.clear()\n",
    "\n",
    "# Convert JSON metadata to NIfTI extension\n",
    "metadata_str = json.dumps(desikan_metadata)\n",
    "metadata_bytes = metadata_str.encode('utf-8')\n",
    "extension = nib.nifti1.Nifti1Extension(6, metadata_bytes)\n",
    "header.extensions.append(extension)\n",
    "\n",
    "# Save the new NIfTI file\n",
    "nib.save(new_img, 'D:/Projects/SES_T1/atlas/Desikan_with_metadata.nii.gz')\n"
   ]
  }
 ],
 "metadata": {
  "kernelspec": {
   "display_name": "nilearn",
   "language": "python",
   "name": "python3"
  },
  "language_info": {
   "codemirror_mode": {
    "name": "ipython",
    "version": 3
   },
   "file_extension": ".py",
   "mimetype": "text/x-python",
   "name": "python",
   "nbconvert_exporter": "python",
   "pygments_lexer": "ipython3",
   "version": "3.9.16"
  }
 },
 "nbformat": 4,
 "nbformat_minor": 2
}
